{
  "nbformat": 4,
  "nbformat_minor": 0,
  "metadata": {
    "colab": {
      "name": "Diabetes Prediction--Team7.ipynb",
      "version": "0.3.2",
      "provenance": [],
      "include_colab_link": true
    },
    "kernelspec": {
      "name": "python3",
      "display_name": "Python 3"
    }
  },
  "cells": [
    {
      "cell_type": "markdown",
      "metadata": {
        "id": "view-in-github",
        "colab_type": "text"
      },
      "source": [
        "<a href=\"https://colab.research.google.com/github/ReneeZhang2017/Diabetes_Prediction/blob/master/Diabetes_Prediction_Team7.ipynb\" target=\"_parent\"><img src=\"https://colab.research.google.com/assets/colab-badge.svg\" alt=\"Open In Colab\"/></a>"
      ]
    },
    {
      "cell_type": "markdown",
      "metadata": {
        "id": "raSjGEAbp23g",
        "colab_type": "text"
      },
      "source": [
        "# 1. Introduction\n",
        "\n",
        "Diabetes mellitus is a chronic disease characterized by hyperglycemia. It may cause many complications. According to the growing morbidity in recent years, in 2040, the world’s diabetic patients will reach 642 million, which means that one of the ten adults in the future is suffering from diabetes. There is no doubt that this alarming figure needs great attention. With the rapid development of machine learning, machine learning has been applied to many aspects of medical health. In this study, we used Logistic Regression, SVM, and Random Rorest  to predict diabetes mellitus. \n",
        "\n",
        "\n",
        "\n",
        "This dataset is originally from the National Institute of Diabetes and Digestive and Kidney Diseases. The objective of the dataset is to diagnostically predict whether or not a patient has diabetes, based on certain diagnostic measurements included in the dataset. "
      ]
    },
    {
      "cell_type": "markdown",
      "metadata": {
        "id": "_Wvms5fhp7Ht",
        "colab_type": "text"
      },
      "source": [
        "# 2. Import Data"
      ]
    },
    {
      "cell_type": "code",
      "metadata": {
        "id": "oQRedtdNpVQv",
        "colab_type": "code",
        "outputId": "8b327825-6039-4b4e-d0ef-8a970acbcbe4",
        "colab": {
          "base_uri": "https://localhost:8080/",
          "height": 204
        }
      },
      "source": [
        "import numpy as np\n",
        "import pandas as pd\n",
        "df=pd.read_csv('https://raw.githubusercontent.com/ReneeZhang2017/Diabetes_Prediction/master/diabetes.csv')\n",
        "df.head(5)"
      ],
      "execution_count": 0,
      "outputs": [
        {
          "output_type": "execute_result",
          "data": {
            "text/html": [
              "<div>\n",
              "<style scoped>\n",
              "    .dataframe tbody tr th:only-of-type {\n",
              "        vertical-align: middle;\n",
              "    }\n",
              "\n",
              "    .dataframe tbody tr th {\n",
              "        vertical-align: top;\n",
              "    }\n",
              "\n",
              "    .dataframe thead th {\n",
              "        text-align: right;\n",
              "    }\n",
              "</style>\n",
              "<table border=\"1\" class=\"dataframe\">\n",
              "  <thead>\n",
              "    <tr style=\"text-align: right;\">\n",
              "      <th></th>\n",
              "      <th>Pregnancies</th>\n",
              "      <th>Glucose</th>\n",
              "      <th>BloodPressure</th>\n",
              "      <th>SkinThickness</th>\n",
              "      <th>Insulin</th>\n",
              "      <th>BMI</th>\n",
              "      <th>DiabetesPedigreeFunction</th>\n",
              "      <th>Age</th>\n",
              "      <th>Outcome</th>\n",
              "    </tr>\n",
              "  </thead>\n",
              "  <tbody>\n",
              "    <tr>\n",
              "      <th>0</th>\n",
              "      <td>6</td>\n",
              "      <td>148</td>\n",
              "      <td>72</td>\n",
              "      <td>35</td>\n",
              "      <td>0</td>\n",
              "      <td>33.6</td>\n",
              "      <td>0.627</td>\n",
              "      <td>50</td>\n",
              "      <td>1</td>\n",
              "    </tr>\n",
              "    <tr>\n",
              "      <th>1</th>\n",
              "      <td>1</td>\n",
              "      <td>85</td>\n",
              "      <td>66</td>\n",
              "      <td>29</td>\n",
              "      <td>0</td>\n",
              "      <td>26.6</td>\n",
              "      <td>0.351</td>\n",
              "      <td>31</td>\n",
              "      <td>0</td>\n",
              "    </tr>\n",
              "    <tr>\n",
              "      <th>2</th>\n",
              "      <td>8</td>\n",
              "      <td>183</td>\n",
              "      <td>64</td>\n",
              "      <td>0</td>\n",
              "      <td>0</td>\n",
              "      <td>23.3</td>\n",
              "      <td>0.672</td>\n",
              "      <td>32</td>\n",
              "      <td>1</td>\n",
              "    </tr>\n",
              "    <tr>\n",
              "      <th>3</th>\n",
              "      <td>1</td>\n",
              "      <td>89</td>\n",
              "      <td>66</td>\n",
              "      <td>23</td>\n",
              "      <td>94</td>\n",
              "      <td>28.1</td>\n",
              "      <td>0.167</td>\n",
              "      <td>21</td>\n",
              "      <td>0</td>\n",
              "    </tr>\n",
              "    <tr>\n",
              "      <th>4</th>\n",
              "      <td>0</td>\n",
              "      <td>137</td>\n",
              "      <td>40</td>\n",
              "      <td>35</td>\n",
              "      <td>168</td>\n",
              "      <td>43.1</td>\n",
              "      <td>2.288</td>\n",
              "      <td>33</td>\n",
              "      <td>1</td>\n",
              "    </tr>\n",
              "  </tbody>\n",
              "</table>\n",
              "</div>"
            ],
            "text/plain": [
              "   Pregnancies  Glucose  BloodPressure  SkinThickness  Insulin   BMI  \\\n",
              "0            6      148             72             35        0  33.6   \n",
              "1            1       85             66             29        0  26.6   \n",
              "2            8      183             64              0        0  23.3   \n",
              "3            1       89             66             23       94  28.1   \n",
              "4            0      137             40             35      168  43.1   \n",
              "\n",
              "   DiabetesPedigreeFunction  Age  Outcome  \n",
              "0                     0.627   50        1  \n",
              "1                     0.351   31        0  \n",
              "2                     0.672   32        1  \n",
              "3                     0.167   21        0  \n",
              "4                     2.288   33        1  "
            ]
          },
          "metadata": {
            "tags": []
          },
          "execution_count": 1
        }
      ]
    },
    {
      "cell_type": "code",
      "metadata": {
        "id": "QvO4_mCMru3u",
        "colab_type": "code",
        "outputId": "20310533-4c6f-425e-e2fa-a511f58f5cd0",
        "colab": {
          "base_uri": "https://localhost:8080/",
          "height": 34
        }
      },
      "source": [
        "df.shape"
      ],
      "execution_count": 0,
      "outputs": [
        {
          "output_type": "execute_result",
          "data": {
            "text/plain": [
              "(768, 9)"
            ]
          },
          "metadata": {
            "tags": []
          },
          "execution_count": 2
        }
      ]
    },
    {
      "cell_type": "code",
      "metadata": {
        "id": "rLnxtgxTrv-H",
        "colab_type": "code",
        "outputId": "e79e7630-c8c2-43ee-a78a-e4ff37f99b26",
        "colab": {
          "base_uri": "https://localhost:8080/",
          "height": 187
        }
      },
      "source": [
        "df.isnull().sum()"
      ],
      "execution_count": 0,
      "outputs": [
        {
          "output_type": "execute_result",
          "data": {
            "text/plain": [
              "Pregnancies                 0\n",
              "Glucose                     0\n",
              "BloodPressure               0\n",
              "SkinThickness               0\n",
              "Insulin                     0\n",
              "BMI                         0\n",
              "DiabetesPedigreeFunction    0\n",
              "Age                         0\n",
              "Outcome                     0\n",
              "dtype: int64"
            ]
          },
          "metadata": {
            "tags": []
          },
          "execution_count": 3
        }
      ]
    },
    {
      "cell_type": "code",
      "metadata": {
        "id": "h2Z5deEdkm63",
        "colab_type": "code",
        "outputId": "35e82e7c-8ae2-47ff-c207-65cf2c339ae7",
        "colab": {
          "base_uri": "https://localhost:8080/",
          "height": 255
        }
      },
      "source": [
        "# check data type of each attribute\n",
        "df.info()"
      ],
      "execution_count": 0,
      "outputs": [
        {
          "output_type": "stream",
          "text": [
            "<class 'pandas.core.frame.DataFrame'>\n",
            "RangeIndex: 768 entries, 0 to 767\n",
            "Data columns (total 9 columns):\n",
            "Pregnancies                 768 non-null int64\n",
            "Glucose                     768 non-null int64\n",
            "BloodPressure               768 non-null int64\n",
            "SkinThickness               768 non-null int64\n",
            "Insulin                     768 non-null int64\n",
            "BMI                         768 non-null float64\n",
            "DiabetesPedigreeFunction    768 non-null float64\n",
            "Age                         768 non-null int64\n",
            "Outcome                     768 non-null int64\n",
            "dtypes: float64(2), int64(7)\n",
            "memory usage: 54.1 KB\n"
          ],
          "name": "stdout"
        }
      ]
    },
    {
      "cell_type": "markdown",
      "metadata": {
        "id": "3gaSTlL2p_Bh",
        "colab_type": "text"
      },
      "source": [
        "# 3. EDA"
      ]
    },
    {
      "cell_type": "code",
      "metadata": {
        "id": "FFjBrE77mQno",
        "colab_type": "code",
        "outputId": "2b5d2c19-bc44-452f-f0ec-925bf09068a9",
        "colab": {
          "base_uri": "https://localhost:8080/",
          "height": 354
        }
      },
      "source": [
        "# Count of presence\n",
        "import matplotlib.pyplot as plt\n",
        "import seaborn as sns\n",
        "plt.subplots(figsize= (10, 5))\n",
        "sns.countplot(x= 'Outcome', data = df)"
      ],
      "execution_count": 0,
      "outputs": [
        {
          "output_type": "execute_result",
          "data": {
            "text/plain": [
              "<matplotlib.axes._subplots.AxesSubplot at 0x7f4bfaf46160>"
            ]
          },
          "metadata": {
            "tags": []
          },
          "execution_count": 10
        },
        {
          "output_type": "display_data",
          "data": {
            "image/png": "[encoded data removed]",
            "text/plain": [
              "<Figure size 720x360 with 1 Axes>"
            ]
          },
          "metadata": {
            "tags": []
          }
        }
      ]
    },
    {
      "cell_type": "code",
      "metadata": {
        "id": "Gqf43OY8r3tl",
        "colab_type": "code",
        "outputId": "a8cf560c-b8a5-4693-e3bf-9d760a781bc7",
        "colab": {
          "base_uri": "https://localhost:8080/",
          "height": 566
        }
      },
      "source": [
        "plt.figure(figsize=(10,7))\n",
        "sns.heatmap(df.corr(),annot=True,fmt='.1f',cmap='coolwarm')\n",
        "plt.title('Correlation Heatmap')\n",
        "plt.show()"
      ],
      "execution_count": 0,
      "outputs": [
        {
          "output_type": "display_data",
          "data": {
            "image/png": "[encoded data removed]",
            "text/plain": [
              "<Figure size 720x504 with 2 Axes>"
            ]
          },
          "metadata": {
            "tags": []
          }
        }
      ]
    },
    {
      "cell_type": "code",
      "metadata": {
        "id": "awfnmNtWlqUs",
        "colab_type": "code",
        "outputId": "fbc9c356-e682-4fd9-b256-2e9754210159",
        "colab": {
          "base_uri": "https://localhost:8080/",
          "height": 300
        }
      },
      "source": [
        "sns.violinplot(data=df, y= 'Pregnancies', x='Outcome')"
      ],
      "execution_count": 0,
      "outputs": [
        {
          "output_type": "execute_result",
          "data": {
            "text/plain": [
              "<matplotlib.axes._subplots.AxesSubplot at 0x7f4bfafeeac8>"
            ]
          },
          "metadata": {
            "tags": []
          },
          "execution_count": 9
        },
        {
          "output_type": "display_data",
          "data": {
            "image/png": "[encoded data removed]",
            "text/plain": [
              "<Figure size 432x288 with 1 Axes>"
            ]
          },
          "metadata": {
            "tags": []
          }
        }
      ]
    },
    {
      "cell_type": "code",
      "metadata": {
        "id": "nufOEL1mmpGL",
        "colab_type": "code",
        "outputId": "4c922e61-cade-446f-8936-db92206f30cc",
        "colab": {
          "base_uri": "https://localhost:8080/",
          "height": 300
        }
      },
      "source": [
        "sns.violinplot(data=df, y= 'Glucose', x='Outcome')"
      ],
      "execution_count": 0,
      "outputs": [
        {
          "output_type": "execute_result",
          "data": {
            "text/plain": [
              "<matplotlib.axes._subplots.AxesSubplot at 0x7f4c0819c208>"
            ]
          },
          "metadata": {
            "tags": []
          },
          "execution_count": 12
        },
        {
          "output_type": "display_data",
          "data": {
            "image/png": "[encoded data removed]",
            "text/plain": [
              "<Figure size 432x288 with 1 Axes>"
            ]
          },
          "metadata": {
            "tags": []
          }
        }
      ]
    },
    {
      "cell_type": "code",
      "metadata": {
        "id": "X5O_38z8nSEq",
        "colab_type": "code",
        "outputId": "61ff8e3c-8f53-4ab2-b8cb-15843ce48c7e",
        "colab": {
          "base_uri": "https://localhost:8080/",
          "height": 300
        }
      },
      "source": [
        "sns.violinplot(data=df, y= 'BMI', x='Outcome')"
      ],
      "execution_count": 0,
      "outputs": [
        {
          "output_type": "execute_result",
          "data": {
            "text/plain": [
              "<matplotlib.axes._subplots.AxesSubplot at 0x7f4bfad66a90>"
            ]
          },
          "metadata": {
            "tags": []
          },
          "execution_count": 16
        },
        {
          "output_type": "display_data",
          "data": {
            "image/png": "[encoded data removed]",
            "text/plain": [
              "<Figure size 432x288 with 1 Axes>"
            ]
          },
          "metadata": {
            "tags": []
          }
        }
      ]
    },
    {
      "cell_type": "code",
      "metadata": {
        "id": "qDM1DJ-OnhqU",
        "colab_type": "code",
        "outputId": "73632d5d-616b-4714-d71f-2d2c49f8c7b3",
        "colab": {
          "base_uri": "https://localhost:8080/",
          "height": 300
        }
      },
      "source": [
        "sns.violinplot(data=df, y= 'Age', x='Outcome')"
      ],
      "execution_count": 0,
      "outputs": [
        {
          "output_type": "execute_result",
          "data": {
            "text/plain": [
              "<matplotlib.axes._subplots.AxesSubplot at 0x7f4bfac87e80>"
            ]
          },
          "metadata": {
            "tags": []
          },
          "execution_count": 18
        },
        {
          "output_type": "display_data",
          "data": {
            "image/png": "[encoded data removed]",
            "text/plain": [
              "<Figure size 432x288 with 1 Axes>"
            ]
          },
          "metadata": {
            "tags": []
          }
        }
      ]
    },
    {
      "cell_type": "code",
      "metadata": {
        "id": "y2WNLwnnmxOW",
        "colab_type": "code",
        "outputId": "2f9dc2c2-fffd-4ec3-9576-353e8c1047a0",
        "colab": {
          "base_uri": "https://localhost:8080/",
          "height": 301
        }
      },
      "source": [
        "sns.violinplot(data=df, y= 'BloodPressure', x='Outcome')"
      ],
      "execution_count": 0,
      "outputs": [
        {
          "output_type": "execute_result",
          "data": {
            "text/plain": [
              "<matplotlib.axes._subplots.AxesSubplot at 0x7f4bfae569b0>"
            ]
          },
          "metadata": {
            "tags": []
          },
          "execution_count": 13
        },
        {
          "output_type": "display_data",
          "data": {
            "image/png": "[encoded data removed]",
            "text/plain": [
              "<Figure size 432x288 with 1 Axes>"
            ]
          },
          "metadata": {
            "tags": []
          }
        }
      ]
    },
    {
      "cell_type": "code",
      "metadata": {
        "id": "Gox7NA96m8Q4",
        "colab_type": "code",
        "outputId": "a62adfbf-5b6a-4e7d-cfb2-a78f7491e260",
        "colab": {
          "base_uri": "https://localhost:8080/",
          "height": 300
        }
      },
      "source": [
        "sns.violinplot(data=df, y= 'SkinThickness', x='Outcome')"
      ],
      "execution_count": 0,
      "outputs": [
        {
          "output_type": "execute_result",
          "data": {
            "text/plain": [
              "<matplotlib.axes._subplots.AxesSubplot at 0x7f4bfae22470>"
            ]
          },
          "metadata": {
            "tags": []
          },
          "execution_count": 14
        },
        {
          "output_type": "display_data",
          "data": {
            "image/png": "[encoded data removed]",
            "text/plain": [
              "<Figure size 432x288 with 1 Axes>"
            ]
          },
          "metadata": {
            "tags": []
          }
        }
      ]
    },
    {
      "cell_type": "code",
      "metadata": {
        "id": "VuOlYHXtnMJ4",
        "colab_type": "code",
        "outputId": "1f34c66d-f5ed-4272-f6e7-1595704f4be3",
        "colab": {
          "base_uri": "https://localhost:8080/",
          "height": 300
        }
      },
      "source": [
        "sns.violinplot(data=df, y= 'Insulin', x='Outcome')"
      ],
      "execution_count": 0,
      "outputs": [
        {
          "output_type": "execute_result",
          "data": {
            "text/plain": [
              "<matplotlib.axes._subplots.AxesSubplot at 0x7f4bfad91f28>"
            ]
          },
          "metadata": {
            "tags": []
          },
          "execution_count": 15
        },
        {
          "output_type": "display_data",
          "data": {
            "image/png": "[encoded data removed]",
            "text/plain": [
              "<Figure size 432x288 with 1 Axes>"
            ]
          },
          "metadata": {
            "tags": []
          }
        }
      ]
    },
    {
      "cell_type": "code",
      "metadata": {
        "id": "rqX3rWVAnby5",
        "colab_type": "code",
        "outputId": "0c817ecb-713a-426a-95ce-1b0df90e85d0",
        "colab": {
          "base_uri": "https://localhost:8080/",
          "height": 300
        }
      },
      "source": [
        "sns.violinplot(data=df, y= 'DiabetesPedigreeFunction', x='Outcome')"
      ],
      "execution_count": 0,
      "outputs": [
        {
          "output_type": "execute_result",
          "data": {
            "text/plain": [
              "<matplotlib.axes._subplots.AxesSubplot at 0x7f4bfaccc8d0>"
            ]
          },
          "metadata": {
            "tags": []
          },
          "execution_count": 17
        },
        {
          "output_type": "display_data",
          "data": {
            "image/png": "[encoded data removed]",
            "text/plain": [
              "<Figure size 432x288 with 1 Axes>"
            ]
          },
          "metadata": {
            "tags": []
          }
        }
      ]
    },
    {
      "cell_type": "markdown",
      "metadata": {
        "id": "11admTuPqRJq",
        "colab_type": "text"
      },
      "source": [
        "# 4. Model"
      ]
    },
    {
      "cell_type": "markdown",
      "metadata": {
        "id": "kBBGgmzis0Xh",
        "colab_type": "text"
      },
      "source": [
        "## 4.1 Split Dataset"
      ]
    },
    {
      "cell_type": "code",
      "metadata": {
        "id": "phY2iaSWr99c",
        "colab_type": "code",
        "colab": {}
      },
      "source": [
        "# Split the dependant and independant variables\n",
        "X = df.iloc[:, :-1].values\n",
        "y = df.iloc[:, -1].values\n",
        "# Splitting the data into Training set & Testing set\n",
        "from sklearn.model_selection import train_test_split\n",
        "X_train, X_test, y_train, y_test = train_test_split(X, y, test_size=0.2, random_state=0)"
      ],
      "execution_count": 0,
      "outputs": []
    },
    {
      "cell_type": "markdown",
      "metadata": {
        "id": "OBbfC2Als5IK",
        "colab_type": "text"
      },
      "source": [
        "## 4.2  Apply LogisticRegression, SVM, RandomForest classification algorithms"
      ]
    },
    {
      "cell_type": "markdown",
      "metadata": {
        "id": "G1rqvD0jsJP3",
        "colab_type": "text"
      },
      "source": [
        "### 4.2.1 Logistic Regression"
      ]
    },
    {
      "cell_type": "code",
      "metadata": {
        "id": "4MitlFkFsMos",
        "colab_type": "code",
        "outputId": "a0e8f7db-2a75-4b2c-d0fe-44d1f9a882c6",
        "colab": {
          "base_uri": "https://localhost:8080/",
          "height": 88
        }
      },
      "source": [
        "from sklearn.linear_model import LogisticRegression\n",
        "from sklearn.metrics import accuracy_score\n",
        "log = LogisticRegression()\n",
        "log.fit(X_train,y_train)\n",
        "predict1 = log.predict(X_test)\n",
        "AS1=accuracy_score(y_test,predict1)\n",
        "print('Accuracy Score: ',AS1)"
      ],
      "execution_count": 0,
      "outputs": [
        {
          "output_type": "stream",
          "text": [
            "Accuracy Score:  0.8181818181818182\n"
          ],
          "name": "stdout"
        },
        {
          "output_type": "stream",
          "text": [
            "/usr/local/lib/python3.6/dist-packages/sklearn/linear_model/logistic.py:433: FutureWarning: Default solver will be changed to 'lbfgs' in 0.22. Specify a solver to silence this warning.\n",
            "  FutureWarning)\n"
          ],
          "name": "stderr"
        }
      ]
    },
    {
      "cell_type": "markdown",
      "metadata": {
        "id": "KvbzKuXmsUCc",
        "colab_type": "text"
      },
      "source": [
        "### 4.2.2 SVM"
      ]
    },
    {
      "cell_type": "code",
      "metadata": {
        "id": "2Jwg2D46sDVK",
        "colab_type": "code",
        "outputId": "ef571531-06c9-41ab-ae15-b336a87edd20",
        "colab": {
          "base_uri": "https://localhost:8080/",
          "height": 34
        }
      },
      "source": [
        "from sklearn import svm\n",
        "clf = svm.SVC(kernel='linear')\n",
        "clf.fit(X_train, y_train)\n",
        "predict2 = clf.predict(X_test)\n",
        "AS2=accuracy_score(y_test,predict2)\n",
        "print('Accuracy Score: ',AS2)"
      ],
      "execution_count": 0,
      "outputs": [
        {
          "output_type": "stream",
          "text": [
            "Accuracy Score:  0.8181818181818182\n"
          ],
          "name": "stdout"
        }
      ]
    },
    {
      "cell_type": "markdown",
      "metadata": {
        "id": "hzFx6fu-sgzo",
        "colab_type": "text"
      },
      "source": [
        "### 4.2.3 RandomForest"
      ]
    },
    {
      "cell_type": "code",
      "metadata": {
        "id": "Y78kyJpNsj3Y",
        "colab_type": "code",
        "outputId": "c50202dd-4cdf-4fcb-89cd-b7f4f3e80c04",
        "colab": {
          "base_uri": "https://localhost:8080/",
          "height": 34
        }
      },
      "source": [
        "from sklearn.ensemble import RandomForestClassifier\n",
        "rfc = RandomForestClassifier(max_depth=2, random_state=0, n_estimators=100)\n",
        "rfc.fit(X_train, y_train)\n",
        "predict3 = rfc.predict(X_test)\n",
        "AS3=accuracy_score(y_test,predict3)\n",
        "print('Accuracy Score: ',AS3)"
      ],
      "execution_count": 0,
      "outputs": [
        {
          "output_type": "stream",
          "text": [
            "Accuracy Score:  0.7857142857142857\n"
          ],
          "name": "stdout"
        }
      ]
    },
    {
      "cell_type": "markdown",
      "metadata": {
        "id": "X74pAsMKtE1r",
        "colab_type": "text"
      },
      "source": [
        "## 4.3 Model Summary"
      ]
    },
    {
      "cell_type": "code",
      "metadata": {
        "id": "NwJmdRomuKUb",
        "colab_type": "code",
        "outputId": "38e4c94b-cc4e-4ed5-e9c2-f1b01ed73de1",
        "colab": {
          "base_uri": "https://localhost:8080/",
          "height": 142
        }
      },
      "source": [
        "mss = [['LogisticRegression', AS1], ['SVM', AS2], ['RandomForest', AS3]]   \n",
        "ms = pd.DataFrame(mss, columns = ['Model', 'Accuracy Score'])  \n",
        "ms"
      ],
      "execution_count": 0,
      "outputs": [
        {
          "output_type": "execute_result",
          "data": {
            "text/html": [
              "<div>\n",
              "<style scoped>\n",
              "    .dataframe tbody tr th:only-of-type {\n",
              "        vertical-align: middle;\n",
              "    }\n",
              "\n",
              "    .dataframe tbody tr th {\n",
              "        vertical-align: top;\n",
              "    }\n",
              "\n",
              "    .dataframe thead th {\n",
              "        text-align: right;\n",
              "    }\n",
              "</style>\n",
              "<table border=\"1\" class=\"dataframe\">\n",
              "  <thead>\n",
              "    <tr style=\"text-align: right;\">\n",
              "      <th></th>\n",
              "      <th>Model</th>\n",
              "      <th>Accuracy Score</th>\n",
              "    </tr>\n",
              "  </thead>\n",
              "  <tbody>\n",
              "    <tr>\n",
              "      <th>0</th>\n",
              "      <td>LogisticRegression</td>\n",
              "      <td>0.818182</td>\n",
              "    </tr>\n",
              "    <tr>\n",
              "      <th>1</th>\n",
              "      <td>SVM</td>\n",
              "      <td>0.818182</td>\n",
              "    </tr>\n",
              "    <tr>\n",
              "      <th>2</th>\n",
              "      <td>RandomForest</td>\n",
              "      <td>0.785714</td>\n",
              "    </tr>\n",
              "  </tbody>\n",
              "</table>\n",
              "</div>"
            ],
            "text/plain": [
              "                Model  Accuracy Score\n",
              "0  LogisticRegression        0.818182\n",
              "1                 SVM        0.818182\n",
              "2        RandomForest        0.785714"
            ]
          },
          "metadata": {
            "tags": []
          },
          "execution_count": 55
        }
      ]
    },
    {
      "cell_type": "markdown",
      "metadata": {
        "id": "SVZzsJjVu7eU",
        "colab_type": "text"
      },
      "source": [
        "# 5. Apply GridSearchCV to find the best hyperparameters for your models"
      ]
    },
    {
      "cell_type": "markdown",
      "metadata": {
        "id": "i6ur_QWhvE46",
        "colab_type": "text"
      },
      "source": [
        "## 5.1 Logistic Regression"
      ]
    },
    {
      "cell_type": "code",
      "metadata": {
        "id": "f2Y3j59DvC3L",
        "colab_type": "code",
        "colab": {}
      },
      "source": [
        "from sklearn.model_selection import GridSearchCV\n",
        "grid={\"C\":np.logspace(-3,3,7), \"penalty\":[\"l1\",\"l2\"]}\n",
        "logreg=LogisticRegression()\n",
        "logreg_cv=GridSearchCV(logreg,grid,cv=10)\n",
        "logreg_cv.fit(X_train,y_train)\n",
        "predict = logreg_cv.predict(X_test)\n",
        "ass1=accuracy_score(y_test,predict)\n",
        "print('Accuracy Score: ',ass1)"
      ],
      "execution_count": 0,
      "outputs": []
    },
    {
      "cell_type": "markdown",
      "metadata": {
        "id": "6JPxHhOMvIoD",
        "colab_type": "text"
      },
      "source": [
        "## 5.2 SVM"
      ]
    },
    {
      "cell_type": "code",
      "metadata": {
        "id": "m0PtCFWDvDK-",
        "colab_type": "code",
        "outputId": "a5f26ee4-c090-43a8-98fc-591f5a8e66c5",
        "colab": {
          "base_uri": "https://localhost:8080/",
          "height": 34
        }
      },
      "source": [
        "parameters = {'kernel':('linear', 'rbf'), 'C':[1, 10]}\n",
        "svc = svm.SVC(gamma=\"scale\")\n",
        "svc_model = GridSearchCV(svc, parameters, cv=5)\n",
        "svc_model.fit(X_train,y_train)\n",
        "predict = svc_model.predict(X_test)\n",
        "ass2=accuracy_score(y_test,predict)\n",
        "print('Accuracy Score: ',ass2)"
      ],
      "execution_count": 0,
      "outputs": [
        {
          "output_type": "stream",
          "text": [
            "Accuracy Score:  0.8181818181818182\n"
          ],
          "name": "stdout"
        }
      ]
    },
    {
      "cell_type": "markdown",
      "metadata": {
        "id": "TTdzo_oqvM6B",
        "colab_type": "text"
      },
      "source": [
        "## 5.3 Random Forest"
      ]
    },
    {
      "cell_type": "code",
      "metadata": {
        "id": "AbRGvSZMvDTW",
        "colab_type": "code",
        "outputId": "2afe3ea6-4ad9-47a8-a01b-45e1883debca",
        "colab": {
          "base_uri": "https://localhost:8080/",
          "height": 34
        }
      },
      "source": [
        "param_grid = { \n",
        "    'n_estimators': [200, 700],\n",
        "    'max_features': ['auto', 'sqrt', 'log2']\n",
        "}\n",
        "\n",
        "rfc_model = GridSearchCV(estimator=rfc, param_grid=param_grid, cv= 5)\n",
        "rfc_model.fit(X_train, y_train)\n",
        "predict = rfc_model.predict(X_test)\n",
        "ass3=accuracy_score(y_test,predict)\n",
        "print('Accuracy Score: ',ass3)"
      ],
      "execution_count": 0,
      "outputs": [
        {
          "output_type": "stream",
          "text": [
            "Accuracy Score:  0.7857142857142857\n"
          ],
          "name": "stdout"
        }
      ]
    },
    {
      "cell_type": "markdown",
      "metadata": {
        "id": "mCK0wjNnxcmE",
        "colab_type": "text"
      },
      "source": [
        "## 5.4 Summary"
      ]
    },
    {
      "cell_type": "code",
      "metadata": {
        "id": "FUML1q_dxfUK",
        "colab_type": "code",
        "outputId": "29f67206-d960-4719-d1fc-e5be703a642d",
        "colab": {
          "base_uri": "https://localhost:8080/",
          "height": 142
        }
      },
      "source": [
        "mss = [['LogisticRegression', ass1], ['SVM', ass2], ['RandomForest', ass3]]   \n",
        "ms = pd.DataFrame(mss, columns = ['Model', 'Accuracy Score'])  \n",
        "ms"
      ],
      "execution_count": 0,
      "outputs": [
        {
          "output_type": "execute_result",
          "data": {
            "text/html": [
              "<div>\n",
              "<style scoped>\n",
              "    .dataframe tbody tr th:only-of-type {\n",
              "        vertical-align: middle;\n",
              "    }\n",
              "\n",
              "    .dataframe tbody tr th {\n",
              "        vertical-align: top;\n",
              "    }\n",
              "\n",
              "    .dataframe thead th {\n",
              "        text-align: right;\n",
              "    }\n",
              "</style>\n",
              "<table border=\"1\" class=\"dataframe\">\n",
              "  <thead>\n",
              "    <tr style=\"text-align: right;\">\n",
              "      <th></th>\n",
              "      <th>Model</th>\n",
              "      <th>Accuracy Score</th>\n",
              "    </tr>\n",
              "  </thead>\n",
              "  <tbody>\n",
              "    <tr>\n",
              "      <th>0</th>\n",
              "      <td>LogisticRegression</td>\n",
              "      <td>0.824675</td>\n",
              "    </tr>\n",
              "    <tr>\n",
              "      <th>1</th>\n",
              "      <td>SVM</td>\n",
              "      <td>0.818182</td>\n",
              "    </tr>\n",
              "    <tr>\n",
              "      <th>2</th>\n",
              "      <td>RandomForest</td>\n",
              "      <td>0.785714</td>\n",
              "    </tr>\n",
              "  </tbody>\n",
              "</table>\n",
              "</div>"
            ],
            "text/plain": [
              "                Model  Accuracy Score\n",
              "0  LogisticRegression        0.824675\n",
              "1                 SVM        0.818182\n",
              "2        RandomForest        0.785714"
            ]
          },
          "metadata": {
            "tags": []
          },
          "execution_count": 23
        }
      ]
    },
    {
      "cell_type": "markdown",
      "metadata": {
        "id": "EZiAitljqVow",
        "colab_type": "text"
      },
      "source": [
        "# 6. Model Performance (confusion matrix, precision, recall, ROC AUC)"
      ]
    },
    {
      "cell_type": "code",
      "metadata": {
        "id": "fu7yI0x7xtPh",
        "colab_type": "code",
        "colab": {}
      },
      "source": [
        "from sklearn import metrics\n",
        "from sklearn.metrics import confusion_matrix\n",
        "from sklearn.metrics import precision_score\n",
        "from sklearn.metrics import recall_score\n",
        "from sklearn.metrics import roc_auc_score"
      ],
      "execution_count": 0,
      "outputs": []
    },
    {
      "cell_type": "markdown",
      "metadata": {
        "id": "mxUxHY5Yx9w6",
        "colab_type": "text"
      },
      "source": [
        "## 6.1 Logistic Regression"
      ]
    },
    {
      "cell_type": "code",
      "metadata": {
        "id": "fmWeShLH5Doz",
        "colab_type": "code",
        "outputId": "55c63664-c5f1-422b-904e-871577d11f21",
        "colab": {
          "base_uri": "https://localhost:8080/",
          "height": 229
        }
      },
      "source": [
        "cm = metrics.confusion_matrix(y_test, predict1)\n",
        "plt.figure(figsize=(3,3))\n",
        "sns.heatmap(cm, annot=True, fmt=\"g\", linewidths=.5, square = True, cmap = 'Blues_r')\n",
        "plt.tight_layout()\n",
        "plt.title('LogisticRegression', y = 1.1)\n",
        "plt.ylabel('Actual label')\n",
        "plt.xlabel('Predicted label')\n",
        "plt.show()"
      ],
      "execution_count": 0,
      "outputs": [
        {
          "output_type": "display_data",
          "data": {
            "image/png": "[encoded data removed]",
            "text/plain": [
              "<Figure size 216x216 with 2 Axes>"
            ]
          },
          "metadata": {
            "tags": []
          }
        }
      ]
    },
    {
      "cell_type": "code",
      "metadata": {
        "id": "PcKU0dQsx2Mt",
        "colab_type": "code",
        "outputId": "00d00b88-80b4-4ebb-f1d8-c14eb908c5c9",
        "colab": {
          "base_uri": "https://localhost:8080/",
          "height": 119
        }
      },
      "source": [
        "results1 = confusion_matrix(y_test, predict1)\n",
        "print('Confusion Matrix :')\n",
        "print(results1)\n",
        "\n",
        "precision1 = precision_score(y_test, predict1)\n",
        "print('Precision_LogisticRegression: %f' % precision1)\n",
        "\n",
        "recall1 = recall_score(y_test, predict1)\n",
        "print('Recall_LogisticRegression: %f' % recall1)\n",
        "\n",
        "auc1 = roc_auc_score(y_test, predict1)\n",
        "print('ROC AUC_LogisticRegression: %f' % auc1)"
      ],
      "execution_count": 0,
      "outputs": [
        {
          "output_type": "stream",
          "text": [
            "Confusion Matrix :\n",
            "[[98  9]\n",
            " [19 28]]\n",
            "Precision_LogisticRegression: 0.756757\n",
            "Recall_LogisticRegression: 0.595745\n",
            "ROC AUC_LogisticRegression: 0.755816\n"
          ],
          "name": "stdout"
        }
      ]
    },
    {
      "cell_type": "markdown",
      "metadata": {
        "id": "ah8O4ndMyMeR",
        "colab_type": "text"
      },
      "source": [
        "## 6.2 SVM"
      ]
    },
    {
      "cell_type": "code",
      "metadata": {
        "id": "020NZ9E85Rbq",
        "colab_type": "code",
        "outputId": "5a840ad1-76d5-4fa0-9b70-1468c8fd4104",
        "colab": {
          "base_uri": "https://localhost:8080/",
          "height": 229
        }
      },
      "source": [
        "cm = metrics.confusion_matrix(y_test, predict2)\n",
        "plt.figure(figsize=(3,3))\n",
        "sns.heatmap(cm, annot=True, fmt=\"g\", linewidths=.5, square = True, cmap = 'Blues_r')\n",
        "plt.tight_layout()\n",
        "plt.title('SVM Model', y = 1.1)\n",
        "plt.ylabel('Actual label')\n",
        "plt.xlabel('Predicted label')\n",
        "plt.show()"
      ],
      "execution_count": 0,
      "outputs": [
        {
          "output_type": "display_data",
          "data": {
            "image/png": "[encoded data removed]",
            "text/plain": [
              "<Figure size 216x216 with 2 Axes>"
            ]
          },
          "metadata": {
            "tags": []
          }
        }
      ]
    },
    {
      "cell_type": "code",
      "metadata": {
        "id": "xYJQ923OyR4t",
        "colab_type": "code",
        "outputId": "1933cb8f-0cbe-43e8-846d-9dfb65725d23",
        "colab": {
          "base_uri": "https://localhost:8080/",
          "height": 119
        }
      },
      "source": [
        "results2 = confusion_matrix(y_test, predict2)\n",
        "print('Confusion Matrix :')\n",
        "print(results2)\n",
        "\n",
        "precision2 = precision_score(y_test, predict2)\n",
        "print('Precision_SVM: %f' % precision2)\n",
        "\n",
        "recall2 = recall_score(y_test, predict2)\n",
        "print('Recall_SVM: %f' % recall2)\n",
        "\n",
        "auc2 = roc_auc_score(y_test, predict2)\n",
        "print('ROC AUC_SVM: %f' % auc2)"
      ],
      "execution_count": 0,
      "outputs": [
        {
          "output_type": "stream",
          "text": [
            "Confusion Matrix :\n",
            "[[97 10]\n",
            " [18 29]]\n",
            "Precision_SVM: 0.743590\n",
            "Recall_SVM: 0.617021\n",
            "ROC AUC_SVM: 0.761782\n"
          ],
          "name": "stdout"
        }
      ]
    },
    {
      "cell_type": "markdown",
      "metadata": {
        "id": "_WTYdUE1yOow",
        "colab_type": "text"
      },
      "source": [
        "## 6.3 Random Forest"
      ]
    },
    {
      "cell_type": "code",
      "metadata": {
        "id": "LSkoP_Mq5ib3",
        "colab_type": "code",
        "outputId": "141202aa-37c0-47cb-c567-2e4392b7ea7f",
        "colab": {
          "base_uri": "https://localhost:8080/",
          "height": 227
        }
      },
      "source": [
        "cm = metrics.confusion_matrix(y_test, predict3)\n",
        "plt.figure(figsize=(3,3))\n",
        "sns.heatmap(cm, annot=True, fmt=\"g\", linewidths=.5, square = True, cmap = 'Blues_r')\n",
        "plt.tight_layout()\n",
        "plt.title('RandomForest', y = 1.1)\n",
        "plt.ylabel('Actual label')\n",
        "plt.xlabel('Predicted label')\n",
        "plt.show()"
      ],
      "execution_count": 0,
      "outputs": [
        {
          "output_type": "display_data",
          "data": {
            "image/png": "[encoded data removed]",
            "text/plain": [
              "<Figure size 216x216 with 2 Axes>"
            ]
          },
          "metadata": {
            "tags": []
          }
        }
      ]
    },
    {
      "cell_type": "code",
      "metadata": {
        "id": "0qz7i3wsyYi7",
        "colab_type": "code",
        "outputId": "5343b80c-7afe-4328-b5f4-49f224fdaa9e",
        "colab": {
          "base_uri": "https://localhost:8080/",
          "height": 119
        }
      },
      "source": [
        "results3 = confusion_matrix(y_test, predict3)\n",
        "print('Confusion Matrix :')\n",
        "print(results3) \n",
        "\n",
        "precision3 = precision_score(y_test, predict3)\n",
        "print('Precision_RandomForest: %f' % precision3)\n",
        "\n",
        "recall3 = recall_score(y_test, predict3)\n",
        "print('Recall_Randomforest: %f' % recall3)\n",
        "\n",
        "auc3 = roc_auc_score(y_test, predict3)\n",
        "print('ROC AUC_RandomForest: %f' % auc3)"
      ],
      "execution_count": 0,
      "outputs": [
        {
          "output_type": "stream",
          "text": [
            "Confusion Matrix :\n",
            "[[100   7]\n",
            " [ 26  21]]\n",
            "Precision_RandomForest: 0.750000\n",
            "Recall_Randomforest: 0.446809\n",
            "ROC AUC_RandomForest: 0.690694\n"
          ],
          "name": "stdout"
        }
      ]
    },
    {
      "cell_type": "markdown",
      "metadata": {
        "id": "r-dgNZxp5rCJ",
        "colab_type": "text"
      },
      "source": [
        "## 6.4 Summary"
      ]
    },
    {
      "cell_type": "code",
      "metadata": {
        "id": "8QwreGox5yW0",
        "colab_type": "code",
        "outputId": "2cf066cd-19e6-4286-a80a-0b1f4536f2ba",
        "colab": {
          "base_uri": "https://localhost:8080/",
          "height": 142
        }
      },
      "source": [
        "mmss = [['LogisticRegression', precision1,recall1,auc1], ['SVM', precision2,recall2,auc2], ['RandomForest', precision3,recall3,auc3]]   \n",
        "ms = pd.DataFrame(mmss, columns = ['Model', 'Precision','Recall','AUC'])  \n",
        "ms"
      ],
      "execution_count": 0,
      "outputs": [
        {
          "output_type": "execute_result",
          "data": {
            "text/html": [
              "<div>\n",
              "<style scoped>\n",
              "    .dataframe tbody tr th:only-of-type {\n",
              "        vertical-align: middle;\n",
              "    }\n",
              "\n",
              "    .dataframe tbody tr th {\n",
              "        vertical-align: top;\n",
              "    }\n",
              "\n",
              "    .dataframe thead th {\n",
              "        text-align: right;\n",
              "    }\n",
              "</style>\n",
              "<table border=\"1\" class=\"dataframe\">\n",
              "  <thead>\n",
              "    <tr style=\"text-align: right;\">\n",
              "      <th></th>\n",
              "      <th>Model</th>\n",
              "      <th>Precision</th>\n",
              "      <th>Recall</th>\n",
              "      <th>AUC</th>\n",
              "    </tr>\n",
              "  </thead>\n",
              "  <tbody>\n",
              "    <tr>\n",
              "      <th>0</th>\n",
              "      <td>LogisticRegression</td>\n",
              "      <td>0.756757</td>\n",
              "      <td>0.595745</td>\n",
              "      <td>0.755816</td>\n",
              "    </tr>\n",
              "    <tr>\n",
              "      <th>1</th>\n",
              "      <td>SVM</td>\n",
              "      <td>0.743590</td>\n",
              "      <td>0.617021</td>\n",
              "      <td>0.761782</td>\n",
              "    </tr>\n",
              "    <tr>\n",
              "      <th>2</th>\n",
              "      <td>RandomForest</td>\n",
              "      <td>0.750000</td>\n",
              "      <td>0.446809</td>\n",
              "      <td>0.690694</td>\n",
              "    </tr>\n",
              "  </tbody>\n",
              "</table>\n",
              "</div>"
            ],
            "text/plain": [
              "                Model  Precision    Recall       AUC\n",
              "0  LogisticRegression   0.756757  0.595745  0.755816\n",
              "1                 SVM   0.743590  0.617021  0.761782\n",
              "2        RandomForest   0.750000  0.446809  0.690694"
            ]
          },
          "metadata": {
            "tags": []
          },
          "execution_count": 47
        }
      ]
    },
    {
      "cell_type": "markdown",
      "metadata": {
        "id": "Eu4QW7vG6kGg",
        "colab_type": "text"
      },
      "source": [
        "## **Interpretation**\n",
        "\n",
        "**Precision**：Precision is the number of document retrieved that are relevant (tp / (tp + fp))\n",
        "\n",
        "**Recall**：Recall is the number of relevant document that are retrieved (tp / (tp + fn))\n",
        "\n",
        "**Two Types of Error:**\n",
        "\n",
        "In statistical hypothesis testing a type I error is the acceptance of a false hypothesis (also known as a \"***false positive***\" finding or conclusion), while a type II error is the rejection of a true hypothesis (also known as a \"***false negative***\" finding or conclusion).\n",
        "\n",
        "**AUC (Area Under The Curve) ROC (Receiver Operating Characteristics) curve:** also called \"AUROC (Area Under the Receiver Operating Characteristics)\"\n",
        "\n",
        "ROC is a probability curve and AUC represents degree or measure of separability. It tells how much model is capable of distinguishing between classes. Higher the AUC, better the model is at distinguishing between patients with disease and no disease\n",
        "\n",
        "Although, SVM model has the highest recall and AUC, but Precision is a more essential index to this problem. Because for the Diabetes diagonosis problem, type I error is much severe than type II error. The larger the Precision is, the better model is. \n",
        "\n",
        "**Therefore, we should choose LogisticRegression model.**\n",
        "\n"
      ]
    },
    {
      "cell_type": "markdown",
      "metadata": {
        "id": "9gZ_AQxM0Ce8",
        "colab_type": "text"
      },
      "source": [
        "# 7. Apply AutoML"
      ]
    },
    {
      "cell_type": "code",
      "metadata": {
        "id": "TgqqaIpZcmxu",
        "colab_type": "code",
        "colab": {}
      },
      "source": [
        "!apt-get install default-jre\n",
        "!java -version\n",
        "\n",
        "!pip install -q h2o\n",
        "\n",
        "import h2o\n",
        "from h2o.automl import H2OAutoML\n",
        "\n",
        "h2o.init()"
      ],
      "execution_count": 0,
      "outputs": []
    },
    {
      "cell_type": "code",
      "metadata": {
        "id": "msQ2QqM2craH",
        "colab_type": "code",
        "outputId": "30809f81-c4a7-407f-be38-7e5c5b1ba8dd",
        "colab": {
          "base_uri": "https://localhost:8080/",
          "height": 204
        }
      },
      "source": [
        "import numpy as np\n",
        "import pandas as pd\n",
        "df=pd.read_csv('https://raw.githubusercontent.com/ReneeZhang2017/Diabetes_Prediction/master/diabetes.csv')\n",
        "df.head(5)"
      ],
      "execution_count": 0,
      "outputs": [
        {
          "output_type": "execute_result",
          "data": {
            "text/html": [
              "<div>\n",
              "<style scoped>\n",
              "    .dataframe tbody tr th:only-of-type {\n",
              "        vertical-align: middle;\n",
              "    }\n",
              "\n",
              "    .dataframe tbody tr th {\n",
              "        vertical-align: top;\n",
              "    }\n",
              "\n",
              "    .dataframe thead th {\n",
              "        text-align: right;\n",
              "    }\n",
              "</style>\n",
              "<table border=\"1\" class=\"dataframe\">\n",
              "  <thead>\n",
              "    <tr style=\"text-align: right;\">\n",
              "      <th></th>\n",
              "      <th>Pregnancies</th>\n",
              "      <th>Glucose</th>\n",
              "      <th>BloodPressure</th>\n",
              "      <th>SkinThickness</th>\n",
              "      <th>Insulin</th>\n",
              "      <th>BMI</th>\n",
              "      <th>DiabetesPedigreeFunction</th>\n",
              "      <th>Age</th>\n",
              "      <th>Outcome</th>\n",
              "    </tr>\n",
              "  </thead>\n",
              "  <tbody>\n",
              "    <tr>\n",
              "      <th>0</th>\n",
              "      <td>6</td>\n",
              "      <td>148</td>\n",
              "      <td>72</td>\n",
              "      <td>35</td>\n",
              "      <td>0</td>\n",
              "      <td>33.6</td>\n",
              "      <td>0.627</td>\n",
              "      <td>50</td>\n",
              "      <td>1</td>\n",
              "    </tr>\n",
              "    <tr>\n",
              "      <th>1</th>\n",
              "      <td>1</td>\n",
              "      <td>85</td>\n",
              "      <td>66</td>\n",
              "      <td>29</td>\n",
              "      <td>0</td>\n",
              "      <td>26.6</td>\n",
              "      <td>0.351</td>\n",
              "      <td>31</td>\n",
              "      <td>0</td>\n",
              "    </tr>\n",
              "    <tr>\n",
              "      <th>2</th>\n",
              "      <td>8</td>\n",
              "      <td>183</td>\n",
              "      <td>64</td>\n",
              "      <td>0</td>\n",
              "      <td>0</td>\n",
              "      <td>23.3</td>\n",
              "      <td>0.672</td>\n",
              "      <td>32</td>\n",
              "      <td>1</td>\n",
              "    </tr>\n",
              "    <tr>\n",
              "      <th>3</th>\n",
              "      <td>1</td>\n",
              "      <td>89</td>\n",
              "      <td>66</td>\n",
              "      <td>23</td>\n",
              "      <td>94</td>\n",
              "      <td>28.1</td>\n",
              "      <td>0.167</td>\n",
              "      <td>21</td>\n",
              "      <td>0</td>\n",
              "    </tr>\n",
              "    <tr>\n",
              "      <th>4</th>\n",
              "      <td>0</td>\n",
              "      <td>137</td>\n",
              "      <td>40</td>\n",
              "      <td>35</td>\n",
              "      <td>168</td>\n",
              "      <td>43.1</td>\n",
              "      <td>2.288</td>\n",
              "      <td>33</td>\n",
              "      <td>1</td>\n",
              "    </tr>\n",
              "  </tbody>\n",
              "</table>\n",
              "</div>"
            ],
            "text/plain": [
              "   Pregnancies  Glucose  BloodPressure  SkinThickness  Insulin   BMI  \\\n",
              "0            6      148             72             35        0  33.6   \n",
              "1            1       85             66             29        0  26.6   \n",
              "2            8      183             64              0        0  23.3   \n",
              "3            1       89             66             23       94  28.1   \n",
              "4            0      137             40             35      168  43.1   \n",
              "\n",
              "   DiabetesPedigreeFunction  Age  Outcome  \n",
              "0                     0.627   50        1  \n",
              "1                     0.351   31        0  \n",
              "2                     0.672   32        1  \n",
              "3                     0.167   21        0  \n",
              "4                     2.288   33        1  "
            ]
          },
          "metadata": {
            "tags": []
          },
          "execution_count": 6
        }
      ]
    },
    {
      "cell_type": "code",
      "metadata": {
        "id": "3XUwmGbtcwhF",
        "colab_type": "code",
        "outputId": "9e7fe4ca-c765-44ab-a00e-bef47a3e7676",
        "colab": {
          "base_uri": "https://localhost:8080/",
          "height": 51
        }
      },
      "source": [
        "df = h2o.H2OFrame(df)\n",
        "train, valid, test = df.split_frame(ratios=[0.6,0.2], seed=1234)\n",
        "response = \"Outcome\"\n",
        "train[response] = train[response].asfactor()\n",
        "valid[response] = valid[response].asfactor()\n",
        "test[response] = test[response].asfactor()\n",
        "print(\"Number of rows in train, valid and test set : \", train.shape[0], valid.shape[0], test.shape[0])"
      ],
      "execution_count": 0,
      "outputs": [
        {
          "output_type": "stream",
          "text": [
            "Parse progress: |█████████████████████████████████████████████████████████| 100%\n",
            "Number of rows in train, valid and test set :  465 148 155\n"
          ],
          "name": "stdout"
        }
      ]
    },
    {
      "cell_type": "code",
      "metadata": {
        "id": "VRHw702Tcz3y",
        "colab_type": "code",
        "outputId": "ea797703-936f-4dbb-d31a-62c906689d64",
        "colab": {
          "base_uri": "https://localhost:8080/",
          "height": 34
        }
      },
      "source": [
        "predictors = df.columns[:-1]\n",
        "aml = H2OAutoML(max_models = 10, max_runtime_secs=100, seed = 1)\n",
        "aml.train(x=predictors, y=response, training_frame=train, validation_frame=valid)"
      ],
      "execution_count": 0,
      "outputs": [
        {
          "output_type": "stream",
          "text": [
            "AutoML progress: |████████████████████████████████████████████████████████| 100%\n"
          ],
          "name": "stdout"
        }
      ]
    },
    {
      "cell_type": "code",
      "metadata": {
        "id": "gjiAvjSUc8w9",
        "colab_type": "code",
        "outputId": "7cf7afe6-d691-4f42-c628-76d7636ad3cd",
        "colab": {
          "base_uri": "https://localhost:8080/",
          "height": 250
        }
      },
      "source": [
        "lb = aml.leaderboard\n",
        "lb"
      ],
      "execution_count": 0,
      "outputs": [
        {
          "output_type": "display_data",
          "data": {
            "text/html": [
              "<table>\n",
              "<thead>\n",
              "<tr><th>model_id                                           </th><th style=\"text-align: right;\">     auc</th><th style=\"text-align: right;\">  logloss</th><th style=\"text-align: right;\">  mean_per_class_error</th><th style=\"text-align: right;\">    rmse</th><th style=\"text-align: right;\">     mse</th></tr>\n",
              "</thead>\n",
              "<tbody>\n",
              "<tr><td>XGBoost_1_AutoML_20190503_021406                   </td><td style=\"text-align: right;\">0.83745 </td><td style=\"text-align: right;\"> 0.474051</td><td style=\"text-align: right;\">              0.232885</td><td style=\"text-align: right;\">0.392459</td><td style=\"text-align: right;\">0.154024</td></tr>\n",
              "<tr><td>StackedEnsemble_AllModels_AutoML_20190503_021406   </td><td style=\"text-align: right;\">0.835053</td><td style=\"text-align: right;\"> 0.479432</td><td style=\"text-align: right;\">              0.240208</td><td style=\"text-align: right;\">0.394385</td><td style=\"text-align: right;\">0.15554 </td></tr>\n",
              "<tr><td>StackedEnsemble_BestOfFamily_AutoML_20190503_021406</td><td style=\"text-align: right;\">0.834428</td><td style=\"text-align: right;\"> 0.480057</td><td style=\"text-align: right;\">              0.237891</td><td style=\"text-align: right;\">0.394551</td><td style=\"text-align: right;\">0.155671</td></tr>\n",
              "<tr><td>XGBoost_3_AutoML_20190503_021406                   </td><td style=\"text-align: right;\">0.834297</td><td style=\"text-align: right;\"> 0.480548</td><td style=\"text-align: right;\">              0.240893</td><td style=\"text-align: right;\">0.395017</td><td style=\"text-align: right;\">0.156038</td></tr>\n",
              "<tr><td>XGBoost_2_AutoML_20190503_021406                   </td><td style=\"text-align: right;\">0.833048</td><td style=\"text-align: right;\"> 0.491556</td><td style=\"text-align: right;\">              0.230527</td><td style=\"text-align: right;\">0.400162</td><td style=\"text-align: right;\">0.160129</td></tr>\n",
              "<tr><td>GLM_grid_1_AutoML_20190503_021406_model_1          </td><td style=\"text-align: right;\">0.831638</td><td style=\"text-align: right;\"> 0.488798</td><td style=\"text-align: right;\">              0.238204</td><td style=\"text-align: right;\">0.395915</td><td style=\"text-align: right;\">0.156749</td></tr>\n",
              "<tr><td>GBM_2_AutoML_20190503_021406                       </td><td style=\"text-align: right;\">0.828223</td><td style=\"text-align: right;\"> 0.483842</td><td style=\"text-align: right;\">              0.235171</td><td style=\"text-align: right;\">0.397014</td><td style=\"text-align: right;\">0.15762 </td></tr>\n",
              "<tr><td>GBM_3_AutoML_20190503_021406                       </td><td style=\"text-align: right;\">0.827366</td><td style=\"text-align: right;\"> 0.482683</td><td style=\"text-align: right;\">              0.246897</td><td style=\"text-align: right;\">0.39631 </td><td style=\"text-align: right;\">0.157062</td></tr>\n",
              "<tr><td>GBM_4_AutoML_20190503_021406                       </td><td style=\"text-align: right;\">0.825483</td><td style=\"text-align: right;\"> 0.48658 </td><td style=\"text-align: right;\">              0.240188</td><td style=\"text-align: right;\">0.398551</td><td style=\"text-align: right;\">0.158843</td></tr>\n",
              "<tr><td>GBM_1_AutoML_20190503_021406                       </td><td style=\"text-align: right;\">0.820043</td><td style=\"text-align: right;\"> 0.500529</td><td style=\"text-align: right;\">              0.242545</td><td style=\"text-align: right;\">0.400984</td><td style=\"text-align: right;\">0.160788</td></tr>\n",
              "</tbody>\n",
              "</table>"
            ]
          },
          "metadata": {
            "tags": []
          }
        },
        {
          "output_type": "execute_result",
          "data": {
            "text/plain": [
              ""
            ]
          },
          "metadata": {
            "tags": []
          },
          "execution_count": 10
        }
      ]
    },
    {
      "cell_type": "markdown",
      "metadata": {
        "id": "xgM1oVUXeQPP",
        "colab_type": "text"
      },
      "source": [
        "**Summary:**\n",
        "\n",
        "From the leaderboard, we can found that XGBoost has the best performance, since it has the highest AUC score: 0.83745\n",
        "\n",
        "**Reference**\n",
        "https://github.com/h2oai/h2o-tutorials/blob/master/h2o-world-2017/automl/Python/automl_binary_classification_product_backorders.ipynb\n"
      ]
    },
    {
      "cell_type": "markdown",
      "metadata": {
        "id": "F2CVxq2dqY7Y",
        "colab_type": "text"
      },
      "source": [
        "# 8. Conclusion"
      ]
    }
  ]
}